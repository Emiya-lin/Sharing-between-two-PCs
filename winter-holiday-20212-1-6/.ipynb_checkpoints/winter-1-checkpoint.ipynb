{
 "cells": [
  {
   "cell_type": "markdown",
   "metadata": {},
   "source": [
    "# A notebook for winter holiday\n",
    "---\n",
    "2022.1.6 Thursday.\n",
    "\n",
    "In this `winter-1` file, I write some notes about MIT open course `6.00 Introduction to Computer Science and Programming (Python)` [6.00, Fall 2007](https://dspace.mit.edu/bitstream/handle/1721.1/50241/6-00Fall-2007/OcwWeb/Electrical-Engineering-and-Computer-Science/6-00Fall-2007/CourseHome/index.htm). This course have video edition taught by Eric Grimson & John Guttag [6.00, Fall 2008](https://ocw.mit.edu/courses/electrical-engineering-and-computer-science/6-00-introduction-to-computer-science-and-programming-fall-2008/) in bilibili. "
   ]
  },
  {
   "cell_type": "markdown",
   "metadata": {},
   "source": [
    "## Lession 1\n",
    "\n",
    "What is computation? \n",
    "---\n",
    "Eric Grimson answered this question by separating out the mechanism (whis is the computer) from computational thinking. Back up one more level, what is knowledge? Two categories: declarative and imperative knowledge. \n",
    "\n",
    "Declarative knowledge: statements of fact; imperative knowledge tells you how you might test something but it doesn't tell you how to. \n",
    "\n",
    "Imperative knowledge is a description of how to deduce something. \n",
    "\n",
    "The Dimension of Language\n",
    "---\n",
    "+ High vs. low\n",
    "+ General vs. targetted (e.g.: matlab - a targetted langauge) \n",
    "+ Interprated vs. compiled\n",
    "\n",
    "Syntax & Smantics\n",
    "---\n",
    "Syntax - A legal expression for the language\n",
    "\n",
    "Semantics - static semantics and full semantics\n",
    "\n",
    "static semantics: which programs are meanful (expressions make sense)\n",
    "full semantics: what's going to happen when I run this program"
   ]
  },
  {
   "cell_type": "code",
   "execution_count": 4,
   "metadata": {},
   "outputs": [
    {
     "ename": "TypeError",
     "evalue": "'>' not supported between instances of 'str' and 'int'",
     "output_type": "error",
     "traceback": [
      "\u001b[1;31m---------------------------------------------------------------------------\u001b[0m",
      "\u001b[1;31mTypeError\u001b[0m                                 Traceback (most recent call last)",
      "\u001b[1;32m<ipython-input-4-49fb059f13cc>\u001b[0m in \u001b[0;36m<module>\u001b[1;34m\u001b[0m\n\u001b[0;32m      2\u001b[0m \u001b[0mstr\u001b[0m\u001b[1;33m(\u001b[0m\u001b[1;36m3\u001b[0m\u001b[1;33m)\u001b[0m \u001b[1;33m+\u001b[0m \u001b[1;34m'abc'\u001b[0m \u001b[1;31m# legal expression - type conversion\u001b[0m\u001b[1;33m\u001b[0m\u001b[1;33m\u001b[0m\u001b[0m\n\u001b[0;32m      3\u001b[0m \u001b[1;33m\u001b[0m\u001b[0m\n\u001b[1;32m----> 4\u001b[1;33m \u001b[1;34m'a'\u001b[0m \u001b[1;33m>\u001b[0m \u001b[1;36m3\u001b[0m \u001b[1;31m# what's going to happen?\u001b[0m\u001b[1;33m\u001b[0m\u001b[1;33m\u001b[0m\u001b[0m\n\u001b[0m",
      "\u001b[1;31mTypeError\u001b[0m: '>' not supported between instances of 'str' and 'int'"
     ]
    }
   ],
   "source": [
    "# 3 + 'abc' is error expression.\n",
    "str(3) + 'abc' # legal expression - type conversion\n",
    "\n",
    "'a' > 3 # what's going to happen? "
   ]
  },
  {
   "cell_type": "markdown",
   "metadata": {},
   "source": [
    "$$\\frac{1}{n}\\sum^{n}_{i=1}\\mathcal{L}(\\theta)$$"
   ]
  }
 ],
 "metadata": {
  "kernelspec": {
   "display_name": "Python [conda env:py3.6-gpu]",
   "language": "python",
   "name": "conda-env-py3.6-gpu-py"
  },
  "language_info": {
   "codemirror_mode": {
    "name": "ipython",
    "version": 3
   },
   "file_extension": ".py",
   "mimetype": "text/x-python",
   "name": "python",
   "nbconvert_exporter": "python",
   "pygments_lexer": "ipython3",
   "version": "3.6.12"
  }
 },
 "nbformat": 4,
 "nbformat_minor": 4
}
