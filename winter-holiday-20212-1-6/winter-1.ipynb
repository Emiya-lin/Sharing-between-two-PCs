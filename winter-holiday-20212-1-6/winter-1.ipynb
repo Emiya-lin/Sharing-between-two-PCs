{
 "cells": [
  {
   "cell_type": "markdown",
   "metadata": {},
   "source": [
    "# A notebook for winter holiday\n",
    "---\n",
    "2022.1.6 Thursday.\n",
    "\n",
    "In this `winter-1` file, I write some notes about MIT open course `6.00 Introduction to Computer Science and Programming (Python)` [6.00, Fall 2007](https://dspace.mit.edu/bitstream/handle/1721.1/50241/6-00Fall-2007/OcwWeb/Electrical-Engineering-and-Computer-Science/6-00Fall-2007/CourseHome/index.htm). This course have video edition taught by Eric Grimson & John Guttag [6.00, Fall 2008](https://ocw.mit.edu/courses/electrical-engineering-and-computer-science/6-00-introduction-to-computer-science-and-programming-fall-2008/) in bilibili. "
   ]
  },
  {
   "cell_type": "markdown",
   "metadata": {},
   "source": [
    "## Lession 1\n",
    "\n",
    "What is computation? \n",
    "---\n",
    "Eric Grimson answered this question by separating out the mechanism (whis is the computer) from computational thinking. Back up one more level, what is knowledge? Two categories: declarative and imperative knowledge. \n",
    "\n",
    "Declarative knowledge: statements of fact; imperative knowledge tells you how you might test something but it doesn't tell you how to. \n",
    "\n",
    "Imperative knowledge is a description of how to deduce something. \n",
    "\n",
    "The Dimension of Language\n",
    "---\n",
    "+ High vs. low\n",
    "+ General vs. targetted (e.g.: matlab - a targetted langauge) \n",
    "+ Interprated vs. compiled\n",
    "\n",
    "Syntax & Smantics\n",
    "---\n",
    "Syntax - A legal expression for the language\n",
    "\n",
    "Semantics - static semantics and full semantics\n",
    "\n",
    "static semantics: which programs are meanful (expressions make sense)\n",
    "full semantics: what's going to happen when I run this program"
   ]
  },
  {
   "cell_type": "code",
   "execution_count": 1,
   "metadata": {},
   "outputs": [
    {
     "ename": "TypeError",
     "evalue": "'>' not supported between instances of 'str' and 'int'",
     "output_type": "error",
     "traceback": [
      "\u001b[1;31m---------------------------------------------------------------------------\u001b[0m",
      "\u001b[1;31mTypeError\u001b[0m                                 Traceback (most recent call last)",
      "\u001b[1;32m<ipython-input-1-d1490a011fae>\u001b[0m in \u001b[0;36m<module>\u001b[1;34m\u001b[0m\n\u001b[0;32m      2\u001b[0m \u001b[0mstr\u001b[0m\u001b[1;33m(\u001b[0m\u001b[1;36m3\u001b[0m\u001b[1;33m)\u001b[0m \u001b[1;33m+\u001b[0m \u001b[1;34m'abc'\u001b[0m \u001b[1;31m# legal expression - type conversion\u001b[0m\u001b[1;33m\u001b[0m\u001b[1;33m\u001b[0m\u001b[0m\n\u001b[0;32m      3\u001b[0m \u001b[1;33m\u001b[0m\u001b[0m\n\u001b[1;32m----> 4\u001b[1;33m \u001b[1;34m'a'\u001b[0m \u001b[1;33m>\u001b[0m \u001b[1;36m3\u001b[0m \u001b[1;31m# what's going to happen?\u001b[0m\u001b[1;33m\u001b[0m\u001b[1;33m\u001b[0m\u001b[0m\n\u001b[0m",
      "\u001b[1;31mTypeError\u001b[0m: '>' not supported between instances of 'str' and 'int'"
     ]
    }
   ],
   "source": [
    "# 3 + 'abc' is error expression.\n",
    "str(3) + 'abc' # legal expression - type conversion\n",
    "\n",
    "'a' > 3 # what's going to happen? \n"
   ]
  },
  {
   "cell_type": "markdown",
   "metadata": {},
   "source": [
    "## Lession 2\n",
    "\n",
    "Type checking and valuable binging\n",
    "---\n",
    "- What's the type of the valuable?\n",
    "- "
   ]
  },
  {
   "cell_type": "code",
   "execution_count": 17,
   "metadata": {},
   "outputs": [
    {
     "name": "stdout",
     "output_type": "stream",
     "text": [
      "l1:  [1, 2, 3, 4, 5] type of l1:  <class 'list'>\n",
      "l1+l2:  [1, 2, 3, 4, 5, 6, 7]\n",
      "l1+l3:  [1, 2, 3, 4, 5, 3, 7]\n",
      "Type of l4(multi-type elements):  <class 'str'> <class 'int'>\n",
      "the length of l4: 3\n"
     ]
    }
   ],
   "source": [
    "# Usage of list\n",
    "l1 = [1, 2, 3, 4, 5]\n",
    "print(\"l1: \", l1, \"type of l1: \", type(l1))\n",
    "l2 = [6, 7]\n",
    "print(\"l1+l2: \", l1+l2) # [1, 2, 3, 4, 5, 6, 7]\n",
    "l3 = [3, 7]\n",
    "print(\"l1+l3: \", l1+l3) # [1, 2, 3, 4, 5, 3, 7]\n",
    "\n",
    "l4 = ['Lee', 1865, 'Robert'] # multiple types confusion\n",
    "print(\"Type of l4(multi-type elements): \", type(l4[0]), type(l4[1]))\n",
    "print(\"the length of l4:\", len(l4))"
   ]
  },
  {
   "cell_type": "code",
   "execution_count": null,
   "metadata": {},
   "outputs": [],
   "source": [
    "# 创建连续的整数数组\n",
    "intgList = range(9, 23) # range(head, tail+1) for list [head, head+1, head+2, ..., tail]\n",
    "for i in range(len(intgList)):\n",
    "    print(intgList[i])\n"
   ]
  },
  {
   "cell_type": "code",
   "execution_count": 21,
   "metadata": {},
   "outputs": [
    {
     "name": "stdout",
     "output_type": "stream",
     "text": [
      "[1 2 3 4 5] type of l5:  <class 'numpy.ndarray'>\n"
     ]
    }
   ],
   "source": [
    "# vector in python\n",
    "# list for python vs. np.array-vector in numpy\n",
    "import numpy as np\n",
    "l5 = np.array(l1)\n",
    "print(l5, \"type of l5: \", type(l5))"
   ]
  }
 ],
 "metadata": {
  "kernelspec": {
   "display_name": "Python [conda env:py3.6-gpu]",
   "language": "python",
   "name": "conda-env-py3.6-gpu-py"
  },
  "language_info": {
   "codemirror_mode": {
    "name": "ipython",
    "version": 3
   },
   "file_extension": ".py",
   "mimetype": "text/x-python",
   "name": "python",
   "nbconvert_exporter": "python",
   "pygments_lexer": "ipython3",
   "version": "3.6.12"
  }
 },
 "nbformat": 4,
 "nbformat_minor": 4
}
